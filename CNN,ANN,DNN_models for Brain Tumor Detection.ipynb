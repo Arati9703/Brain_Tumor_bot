{
 "cells": [
  {
   "cell_type": "code",
   "execution_count": 1,
   "id": "be50a4ec-e65c-43e9-8990-68adf802f9fc",
   "metadata": {},
   "outputs": [],
   "source": [
    "import os\n",
    "import numpy as np\n",
    "from tensorflow.keras.models import Sequential\n",
    "from tensorflow.keras import models,layers\n",
    "from tensorflow.keras.layers import Dense,Flatten\n",
    "from tensorflow.keras.datasets import mnist\n",
    "from tensorflow.keras.utils import to_categorical\n",
    "from tensorflow.keras.preprocessing.image import ImageDataGenerator,array_to_img\n",
    "import matplotlib.pyplot as plt\n"
   ]
  },
  {
   "cell_type": "code",
   "execution_count": 15,
   "id": "fcb65b74-6474-4449-99f1-a76940876599",
   "metadata": {},
   "outputs": [],
   "source": [
    "dataset_path='brain_tumor_dataset'\n",
    "datagen=ImageDataGenerator(rescale=1/255,validation_split=0.3)"
   ]
  },
  {
   "cell_type": "code",
   "execution_count": 16,
   "id": "8b95d7b2-2948-46cc-9e4c-b801c7b95dfd",
   "metadata": {},
   "outputs": [
    {
     "name": "stdout",
     "output_type": "stream",
     "text": [
      "Found 146 images belonging to 2 classes.\n"
     ]
    }
   ],
   "source": [
    "train_gen=datagen.flow_from_directory(\n",
    "    dataset_path,\n",
    "    target_size=(150,150),\n",
    "    class_mode='binary',\n",
    "    subset='training',\n",
    "    shuffle=True\n",
    ")"
   ]
  },
  {
   "cell_type": "code",
   "execution_count": 17,
   "id": "3f8ba343-a50e-4e72-9123-cfa5c27813ba",
   "metadata": {},
   "outputs": [
    {
     "name": "stdout",
     "output_type": "stream",
     "text": [
      "Found 62 images belonging to 2 classes.\n"
     ]
    }
   ],
   "source": [
    "val_gen=datagen.flow_from_directory(\n",
    "    dataset_path,\n",
    "    target_size=(150,150),\n",
    "    class_mode='binary',\n",
    "    subset='validation',\n",
    "    shuffle=False\n",
    ")"
   ]
  },
  {
   "cell_type": "code",
   "execution_count": 18,
   "id": "6ca46a88-7e58-43aa-81f8-c6c0553c42b0",
   "metadata": {},
   "outputs": [],
   "source": [
    "def create_ann_model():\n",
    "    model=Sequential([\n",
    "    Flatten(input_shape=(150,150,3)),\n",
    "    Dense(128,activation='relu'),\n",
    "    Dense(64,activation='relu'),\n",
    "    Dense(1,activation='sigmoid')\n",
    "    ])\n",
    "    model.compile(optimizer='adam',loss='binary_crossentropy',metrics=['accuracy'])\n",
    "    return model"
   ]
  },
  {
   "cell_type": "code",
   "execution_count": 19,
   "id": "94b103ea-e7f8-4033-92b5-d5acebcccd33",
   "metadata": {},
   "outputs": [],
   "source": [
    "def create_cnn_model():\n",
    "    model=models.Sequential()\n",
    "    model.add(layers.Conv2D(32,(3,3),activation='relu',input_shape=(150,150,3)))\n",
    "    model.add(layers.MaxPooling2D((2,2)))\n",
    "    model.add(layers.Conv2D(64,(3,3),activation='relu'))\n",
    "    model.add(layers.MaxPooling2D((2,2)))\n",
    "    model.add(layers.Conv2D(128,(3,3),activation='relu'))\n",
    "    model.add(layers.MaxPooling2D((2,2)))\n",
    "    model.add(layers.Conv2D(256,(3,3),activation='relu'))\n",
    "    model.add(layers.MaxPooling2D((2,2)))\n",
    "    model.add(layers.Flatten())\n",
    "    model.add(layers.Dense(64,activation='relu'))\n",
    "    model.add(layers.Dense(1,activation='sigmoid'))\n",
    "    model.compile(optimizer='adam',loss='binary_crossentropy',metrics=['accuracy'])\n",
    "    return model"
   ]
  },
  {
   "cell_type": "code",
   "execution_count": 20,
   "id": "251f50de-fa51-425b-a1fd-b4a3fa2ab7fc",
   "metadata": {},
   "outputs": [],
   "source": [
    "cnn=create_cnn_model()"
   ]
  },
  {
   "cell_type": "code",
   "execution_count": 21,
   "id": "0c14f009-492e-47d2-9a75-752b3ec70207",
   "metadata": {},
   "outputs": [
    {
     "name": "stdout",
     "output_type": "stream",
     "text": [
      "Model: \"sequential_3\"\n",
      "_________________________________________________________________\n",
      " Layer (type)                Output Shape              Param #   \n",
      "=================================================================\n",
      " conv2d_7 (Conv2D)           (None, 148, 148, 32)      896       \n",
      "                                                                 \n",
      " max_pooling2d_7 (MaxPoolin  (None, 74, 74, 32)        0         \n",
      " g2D)                                                            \n",
      "                                                                 \n",
      " conv2d_8 (Conv2D)           (None, 72, 72, 64)        18496     \n",
      "                                                                 \n",
      " max_pooling2d_8 (MaxPoolin  (None, 36, 36, 64)        0         \n",
      " g2D)                                                            \n",
      "                                                                 \n",
      " conv2d_9 (Conv2D)           (None, 34, 34, 128)       73856     \n",
      "                                                                 \n",
      " max_pooling2d_9 (MaxPoolin  (None, 17, 17, 128)       0         \n",
      " g2D)                                                            \n",
      "                                                                 \n",
      " conv2d_10 (Conv2D)          (None, 15, 15, 256)       295168    \n",
      "                                                                 \n",
      " max_pooling2d_10 (MaxPooli  (None, 7, 7, 256)         0         \n",
      " ng2D)                                                           \n",
      "                                                                 \n",
      " flatten_3 (Flatten)         (None, 12544)             0         \n",
      "                                                                 \n",
      " dense_7 (Dense)             (None, 64)                802880    \n",
      "                                                                 \n",
      " dense_8 (Dense)             (None, 1)                 65        \n",
      "                                                                 \n",
      "=================================================================\n",
      "Total params: 1191361 (4.54 MB)\n",
      "Trainable params: 1191361 (4.54 MB)\n",
      "Non-trainable params: 0 (0.00 Byte)\n",
      "_________________________________________________________________\n"
     ]
    }
   ],
   "source": [
    "cnn.summary()"
   ]
  },
  {
   "cell_type": "code",
   "execution_count": 22,
   "id": "0c715f98-487c-4fcb-b51b-dfb0e336ae75",
   "metadata": {},
   "outputs": [
    {
     "name": "stdout",
     "output_type": "stream",
     "text": [
      "Epoch 1/10\n",
      "5/5 [==============================] - 6s 1s/step - loss: 0.8125 - accuracy: 0.5274 - val_loss: 0.6922 - val_accuracy: 0.5323\n",
      "Epoch 2/10\n",
      "5/5 [==============================] - 4s 851ms/step - loss: 0.6921 - accuracy: 0.5411 - val_loss: 0.6899 - val_accuracy: 0.5484\n",
      "Epoch 3/10\n",
      "5/5 [==============================] - 4s 822ms/step - loss: 0.6883 - accuracy: 0.6575 - val_loss: 0.6827 - val_accuracy: 0.6613\n",
      "Epoch 4/10\n",
      "5/5 [==============================] - 5s 1s/step - loss: 0.6761 - accuracy: 0.6712 - val_loss: 0.6570 - val_accuracy: 0.7097\n",
      "Epoch 5/10\n",
      "5/5 [==============================] - 5s 1s/step - loss: 0.6317 - accuracy: 0.7329 - val_loss: 0.6056 - val_accuracy: 0.6613\n",
      "Epoch 6/10\n",
      "5/5 [==============================] - 4s 928ms/step - loss: 0.5420 - accuracy: 0.7603 - val_loss: 0.7255 - val_accuracy: 0.7097\n",
      "Epoch 7/10\n",
      "5/5 [==============================] - 4s 921ms/step - loss: 0.5812 - accuracy: 0.7329 - val_loss: 0.6916 - val_accuracy: 0.6613\n",
      "Epoch 8/10\n",
      "5/5 [==============================] - 4s 831ms/step - loss: 0.5260 - accuracy: 0.7603 - val_loss: 0.5728 - val_accuracy: 0.6935\n",
      "Epoch 9/10\n",
      "5/5 [==============================] - 4s 837ms/step - loss: 0.5346 - accuracy: 0.7534 - val_loss: 0.5667 - val_accuracy: 0.6935\n",
      "Epoch 10/10\n",
      "5/5 [==============================] - 5s 1s/step - loss: 0.4913 - accuracy: 0.7808 - val_loss: 0.5748 - val_accuracy: 0.7097\n"
     ]
    }
   ],
   "source": [
    "hcnn=cnn.fit(train_gen,epochs=10,validation_data=val_gen)"
   ]
  },
  {
   "cell_type": "code",
   "execution_count": 23,
   "id": "d6bd527a-23cf-4f1c-995b-43cb51e4f507",
   "metadata": {},
   "outputs": [
    {
     "name": "stderr",
     "output_type": "stream",
     "text": [
      "/opt/anaconda3/lib/python3.11/site-packages/keras/src/engine/training.py:3103: UserWarning: You are saving your model as an HDF5 file via `model.save()`. This file format is considered legacy. We recommend using instead the native Keras format, e.g. `model.save('my_model.keras')`.\n",
      "  saving_api.save_model(\n"
     ]
    }
   ],
   "source": [
    "cnn.save('cnnmodel.h5')"
   ]
  },
  {
   "cell_type": "code",
   "execution_count": 24,
   "id": "c4867a3c-ea56-46f6-bb87-bada103db546",
   "metadata": {},
   "outputs": [],
   "source": [
    "import gradio as gr\n",
    "from tensorflow.keras.preprocessing import image\n",
    "import numpy as np\n",
    "import tensorflow as tf"
   ]
  },
  {
   "cell_type": "code",
   "execution_count": 10,
   "id": "43638795-2d13-4c12-8038-2ce0c4949829",
   "metadata": {},
   "outputs": [],
   "source": [
    "ann=create_ann_model()"
   ]
  },
  {
   "cell_type": "code",
   "execution_count": 64,
   "id": "5862ec03-8372-4bd1-a943-17db6def07b6",
   "metadata": {},
   "outputs": [
    {
     "name": "stdout",
     "output_type": "stream",
     "text": [
      "Model: \"sequential_12\"\n",
      "_________________________________________________________________\n",
      " Layer (type)                Output Shape              Param #   \n",
      "=================================================================\n",
      " flatten_12 (Flatten)        (None, 67500)             0         \n",
      "                                                                 \n",
      " dense_29 (Dense)            (None, 128)               8640128   \n",
      "                                                                 \n",
      " dense_30 (Dense)            (None, 64)                8256      \n",
      "                                                                 \n",
      " dense_31 (Dense)            (None, 1)                 65        \n",
      "                                                                 \n",
      "=================================================================\n",
      "Total params: 8648449 (32.99 MB)\n",
      "Trainable params: 8648449 (32.99 MB)\n",
      "Non-trainable params: 0 (0.00 Byte)\n",
      "_________________________________________________________________\n"
     ]
    }
   ],
   "source": [
    "ann.summary()"
   ]
  },
  {
   "cell_type": "code",
   "execution_count": 65,
   "id": "5a49fc60-8473-49a4-b81e-8c2b961ba7dc",
   "metadata": {},
   "outputs": [
    {
     "name": "stdout",
     "output_type": "stream",
     "text": [
      "Epoch 1/10\n",
      "6/6 [==============================] - 1s 83ms/step - loss: 17.1776 - accuracy: 0.3413 - val_loss: 2.3876 - val_accuracy: 0.5366\n",
      "Epoch 2/10\n",
      "6/6 [==============================] - 0s 70ms/step - loss: 1.2719 - accuracy: 0.6527 - val_loss: 2.6235 - val_accuracy: 0.4634\n",
      "Epoch 3/10\n",
      "6/6 [==============================] - 0s 73ms/step - loss: 2.0658 - accuracy: 0.5329 - val_loss: 4.1113 - val_accuracy: 0.5366\n",
      "Epoch 4/10\n",
      "6/6 [==============================] - 0s 74ms/step - loss: 2.7381 - accuracy: 0.5449 - val_loss: 0.6572 - val_accuracy: 0.7073\n",
      "Epoch 5/10\n",
      "6/6 [==============================] - 1s 114ms/step - loss: 1.8796 - accuracy: 0.3892 - val_loss: 1.1398 - val_accuracy: 0.6829\n",
      "Epoch 6/10\n",
      "6/6 [==============================] - 1s 98ms/step - loss: 1.5548 - accuracy: 0.5988 - val_loss: 0.9536 - val_accuracy: 0.7073\n",
      "Epoch 7/10\n",
      "6/6 [==============================] - 1s 91ms/step - loss: 0.9541 - accuracy: 0.6647 - val_loss: 0.8494 - val_accuracy: 0.6341\n",
      "Epoch 8/10\n",
      "6/6 [==============================] - 1s 107ms/step - loss: 0.8662 - accuracy: 0.6826 - val_loss: 1.3407 - val_accuracy: 0.6341\n",
      "Epoch 9/10\n",
      "6/6 [==============================] - 1s 109ms/step - loss: 1.1086 - accuracy: 0.5629 - val_loss: 0.7255 - val_accuracy: 0.6585\n",
      "Epoch 10/10\n",
      "6/6 [==============================] - 1s 86ms/step - loss: 0.2877 - accuracy: 0.8862 - val_loss: 0.9024 - val_accuracy: 0.7073\n"
     ]
    }
   ],
   "source": [
    "hann=ann.fit(train_gen,epochs=10,validation_data=val_gen)"
   ]
  },
  {
   "cell_type": "code",
   "execution_count": 66,
   "id": "268b4e64-eb8e-4fb8-b223-dfc993a25f84",
   "metadata": {},
   "outputs": [
    {
     "name": "stdout",
     "output_type": "stream",
     "text": [
      "2/2 [==============================] - 0s 87ms/step - loss: 0.6656 - accuracy: 0.6829\n"
     ]
    }
   ],
   "source": [
    "cnnloss,cnn_acc=cnn.evaluate(val_gen)"
   ]
  },
  {
   "cell_type": "code",
   "execution_count": 67,
   "id": "a271a90c-9dd7-4208-b99f-72b1ccf3f686",
   "metadata": {},
   "outputs": [
    {
     "name": "stdout",
     "output_type": "stream",
     "text": [
      "2/2 [==============================] - 0s 13ms/step - loss: 0.9024 - accuracy: 0.7073\n"
     ]
    }
   ],
   "source": [
    "annloss,ann_acc=ann.evaluate(val_gen)"
   ]
  },
  {
   "cell_type": "code",
   "execution_count": 52,
   "id": "3714f453-724f-40d9-af0f-998dba1e79cf",
   "metadata": {},
   "outputs": [],
   "source": [
    "cnn.save('trainedcnn.h5')"
   ]
  },
  {
   "cell_type": "code",
   "execution_count": 2,
   "id": "5d2ca007-a24f-4af3-9110-54610566ce41",
   "metadata": {},
   "outputs": [
    {
     "name": "stdout",
     "output_type": "stream",
     "text": [
      "\n",
      "Training fold 1/6...\n",
      "Found 130 images belonging to 2 classes.\n",
      "Found 27 images belonging to 2 classes.\n",
      "1/1 [==============================] - 0s 156ms/step - loss: 0.3643 - accuracy: 0.8519\n",
      "Fold 1 Accuracy: 0.8518518805503845\n",
      "\n",
      "Training fold 2/6...\n",
      "Found 131 images belonging to 2 classes.\n",
      "Found 26 images belonging to 2 classes.\n",
      "1/1 [==============================] - 0s 144ms/step - loss: 0.5578 - accuracy: 0.7692\n",
      "Fold 2 Accuracy: 0.7692307829856873\n",
      "\n",
      "Training fold 3/6...\n",
      "Found 131 images belonging to 2 classes.\n",
      "Found 26 images belonging to 2 classes.\n",
      "1/1 [==============================] - 0s 171ms/step - loss: 0.3824 - accuracy: 0.8462\n",
      "Fold 3 Accuracy: 0.8461538553237915\n",
      "\n",
      "Training fold 4/6...\n",
      "Found 131 images belonging to 2 classes.\n",
      "Found 26 images belonging to 2 classes.\n",
      "1/1 [==============================] - 0s 175ms/step - loss: 0.4889 - accuracy: 0.8462\n",
      "Fold 4 Accuracy: 0.8461538553237915\n",
      "\n",
      "Training fold 5/6...\n",
      "Found 131 images belonging to 2 classes.\n",
      "Found 26 images belonging to 2 classes.\n",
      "1/1 [==============================] - 0s 168ms/step - loss: 0.4239 - accuracy: 0.7692\n",
      "Fold 5 Accuracy: 0.7692307829856873\n",
      "\n",
      "Training fold 6/6...\n",
      "Found 131 images belonging to 2 classes.\n",
      "Found 26 images belonging to 2 classes.\n",
      "1/1 [==============================] - 0s 256ms/step - loss: 0.5629 - accuracy: 0.7308\n",
      "Fold 6 Accuracy: 0.7307692170143127\n",
      "\n",
      "Average Accuracy across folds: 0.8022317290306091\n"
     ]
    },
    {
     "data": {
      "text/plain": [
       "0.8022317290306091"
      ]
     },
     "execution_count": 2,
     "metadata": {},
     "output_type": "execute_result"
    }
   ],
   "source": [
    "import os\n",
    "import shutil\n",
    "import numpy as np\n",
    "from sklearn.model_selection import KFold\n",
    "import tensorflow as tf\n",
    "from tensorflow.keras.preprocessing.image import ImageDataGenerator\n",
    "from tensorflow.keras.models import Sequential\n",
    "from tensorflow.keras.layers import Conv2D, MaxPooling2D, Flatten, Dense\n",
    "\n",
    "dataset_path = 'brain_tumor_dataset'  # Update this path\n",
    "\n",
    "img_width, img_height = 150, 150\n",
    "\n",
    "datagen = ImageDataGenerator(rescale=1.0/255)\n",
    "\n",
    "def create_cnn_model():\n",
    "    model = Sequential([\n",
    "        Conv2D(32, (3, 3), activation='relu', input_shape=(img_width, img_height, 3)),\n",
    "        MaxPooling2D((2, 2)),\n",
    "        Conv2D(64, (3, 3), activation='relu'),\n",
    "        MaxPooling2D((2, 2)),\n",
    "        Conv2D(128, (3, 3), activation='relu'),\n",
    "        MaxPooling2D((2, 2)),\n",
    "        Flatten(),\n",
    "        Dense(128, activation='relu'),\n",
    "        Dense(1, activation='sigmoid')  # Binary classification\n",
    "    ])\n",
    "    model.compile(optimizer='adam', loss='binary_crossentropy', metrics=['accuracy'])\n",
    "    return model\n",
    "\n",
    "def prepare_data(temp_dir, image_paths, labels):\n",
    "    for img_path, label in zip(image_paths, labels):\n",
    "        class_folder = 'yes' if label == 1 else 'no'\n",
    "        class_dir = os.path.join(temp_dir, class_folder)\n",
    "        os.makedirs(class_dir, exist_ok=True)\n",
    "        shutil.copy(img_path, class_dir)\n",
    "\n",
    "def kfold_cross_validation(dataset_path, k=3):\n",
    "    kf = KFold(n_splits=k, shuffle=True, random_state=42)\n",
    "\n",
    "    # Collect all image paths and labels\n",
    "    image_paths = []\n",
    "    labels = []\n",
    "    for label, folder in enumerate(['yes', 'no']):\n",
    "        folder_path = os.path.join(dataset_path, folder)\n",
    "        for file in os.listdir(folder_path):\n",
    "            if file.endswith(('.jpg', '.png')):\n",
    "                image_paths.append(os.path.join(folder_path, file))\n",
    "                labels.append(label)\n",
    "\n",
    "    image_paths = np.array(image_paths)\n",
    "    labels = np.array(labels)\n",
    "\n",
    "    accuracies = []\n",
    "\n",
    "    for fold, (train_index, val_index) in enumerate(kf.split(image_paths)):\n",
    "        print(f\"\\nTraining fold {fold + 1}/{k}...\")\n",
    "\n",
    "        temp_train_dir = 'temp_train'\n",
    "        temp_val_dir = 'temp_val'\n",
    "\n",
    "        if os.path.exists(temp_train_dir):\n",
    "            shutil.rmtree(temp_train_dir)\n",
    "        if os.path.exists(temp_val_dir):\n",
    "            shutil.rmtree(temp_val_dir)\n",
    "\n",
    "        prepare_data(temp_train_dir, image_paths[train_index], labels[train_index])\n",
    "        prepare_data(temp_val_dir, image_paths[val_index], labels[val_index])\n",
    "\n",
    "        train_gen = datagen.flow_from_directory(\n",
    "            temp_train_dir,\n",
    "            target_size=(img_width, img_height),\n",
    "            batch_size=32,\n",
    "            class_mode='binary',\n",
    "            shuffle=True\n",
    "        )\n",
    "\n",
    "        val_gen = datagen.flow_from_directory(\n",
    "            temp_val_dir,\n",
    "            target_size=(img_width, img_height),\n",
    "            batch_size=32,\n",
    "            class_mode='binary',\n",
    "            shuffle=False\n",
    "        )\n",
    "\n",
    "        model = create_cnn_model()\n",
    "        model.fit(train_gen, epochs=10, validation_data=val_gen, verbose=0)\n",
    "\n",
    "        val_loss, val_acc = model.evaluate(val_gen)\n",
    "        accuracies.append(val_acc)\n",
    "        print(f\"Fold {fold + 1} Accuracy: {val_acc}\")\n",
    "\n",
    "    if os.path.exists(temp_train_dir):\n",
    "        shutil.rmtree(temp_train_dir)\n",
    "    if os.path.exists(temp_val_dir):\n",
    "        shutil.rmtree(temp_val_dir)\n",
    "\n",
    "    avg_accuracy = np.mean(accuracies)\n",
    "    print(f\"\\nAverage Accuracy across folds: {avg_accuracy}\")\n",
    "    return avg_accuracy\n",
    "\n",
    "kfold_cross_validation(dataset_path, k=6)\n"
   ]
  },
  {
   "cell_type": "code",
   "execution_count": 3,
   "id": "2e11090b-4048-49d4-9894-dffc18b8b4e5",
   "metadata": {},
   "outputs": [],
   "source": [
    "def create_dnn_model():\n",
    "    model=Sequential([\n",
    "    Flatten(input_shape=(150,150,3)),\n",
    "    Dense(512,activation='relu'),\n",
    "    Dense(256,activation='relu'),\n",
    "    Dense(128,activation='relu'),\n",
    "    Dense(64,activation='relu'),\n",
    "    Dense(1,activation='sigmoid')\n",
    "    ])\n",
    "    model.compile(optimizer='adam',loss='binary_crossentropy',metrics=['accuracy'])\n",
    "    return model"
   ]
  },
  {
   "cell_type": "code",
   "execution_count": 8,
   "id": "385e89c4-330d-4012-ad51-22e6a98f3661",
   "metadata": {},
   "outputs": [
    {
     "name": "stdout",
     "output_type": "stream",
     "text": [
      "Epoch 1/10\n",
      "6/6 [==============================] - 2s 291ms/step - loss: 11.0688 - accuracy: 0.5090 - val_loss: 4.0658 - val_accuracy: 0.4634\n",
      "Epoch 2/10\n",
      "6/6 [==============================] - 1s 175ms/step - loss: 2.6794 - accuracy: 0.4731 - val_loss: 0.6645 - val_accuracy: 0.6829\n",
      "Epoch 3/10\n",
      "6/6 [==============================] - 1s 179ms/step - loss: 3.5181 - accuracy: 0.6527 - val_loss: 4.4277 - val_accuracy: 0.5366\n",
      "Epoch 4/10\n",
      "6/6 [==============================] - 1s 200ms/step - loss: 4.8014 - accuracy: 0.3473 - val_loss: 0.7300 - val_accuracy: 0.7073\n",
      "Epoch 5/10\n",
      "6/6 [==============================] - 1s 173ms/step - loss: 0.7712 - accuracy: 0.6886 - val_loss: 1.2725 - val_accuracy: 0.5610\n",
      "Epoch 6/10\n",
      "6/6 [==============================] - 1s 251ms/step - loss: 1.8186 - accuracy: 0.4072 - val_loss: 0.7299 - val_accuracy: 0.6585\n",
      "Epoch 7/10\n",
      "6/6 [==============================] - 1s 206ms/step - loss: 1.4275 - accuracy: 0.4491 - val_loss: 0.7412 - val_accuracy: 0.6341\n",
      "Epoch 8/10\n",
      "6/6 [==============================] - 2s 248ms/step - loss: 0.4815 - accuracy: 0.8263 - val_loss: 2.6723 - val_accuracy: 0.5366\n",
      "Epoch 9/10\n",
      "6/6 [==============================] - 1s 229ms/step - loss: 1.9278 - accuracy: 0.5329 - val_loss: 0.8886 - val_accuracy: 0.6098\n",
      "Epoch 10/10\n",
      "6/6 [==============================] - 1s 215ms/step - loss: 1.0515 - accuracy: 0.6048 - val_loss: 1.3573 - val_accuracy: 0.6585\n"
     ]
    },
    {
     "data": {
      "text/plain": [
       "<keras.src.callbacks.History at 0x30f9beb10>"
      ]
     },
     "execution_count": 8,
     "metadata": {},
     "output_type": "execute_result"
    }
   ],
   "source": [
    "model = create_dnn_model()\n",
    "model.fit(train_gen, epochs=10, validation_data=val_gen)"
   ]
  },
  {
   "cell_type": "code",
   "execution_count": 9,
   "id": "da826387-685e-4d02-9b64-a47c74bb4135",
   "metadata": {},
   "outputs": [],
   "source": [
    "def create_ann_model():\n",
    "    model=Sequential([\n",
    "    Flatten(input_shape=(150,150,3)),\n",
    "    Dense(128,activation='relu'),\n",
    "    Dense(64,activation='relu'),\n",
    "    Dense(1,activation='sigmoid')\n",
    "    ])\n",
    "    model.compile(optimizer='adam',loss='binary_crossentropy',metrics=['accuracy'])\n",
    "    return model"
   ]
  },
  {
   "cell_type": "code",
   "execution_count": 10,
   "id": "9f179bcf-9d0e-4994-8f1b-191c796f036b",
   "metadata": {},
   "outputs": [
    {
     "name": "stdout",
     "output_type": "stream",
     "text": [
      "Epoch 1/10\n",
      "6/6 [==============================] - 1s 97ms/step - loss: 4.6698 - accuracy: 0.4850 - val_loss: 5.0650 - val_accuracy: 0.4634\n",
      "Epoch 2/10\n",
      "6/6 [==============================] - 0s 71ms/step - loss: 3.1397 - accuracy: 0.2934 - val_loss: 0.7935 - val_accuracy: 0.6341\n",
      "Epoch 3/10\n",
      "6/6 [==============================] - 0s 67ms/step - loss: 1.2584 - accuracy: 0.5988 - val_loss: 1.2174 - val_accuracy: 0.6829\n",
      "Epoch 4/10\n",
      "6/6 [==============================] - 0s 72ms/step - loss: 1.3232 - accuracy: 0.6407 - val_loss: 0.8352 - val_accuracy: 0.7073\n",
      "Epoch 5/10\n",
      "6/6 [==============================] - 0s 62ms/step - loss: 0.5612 - accuracy: 0.7964 - val_loss: 1.3891 - val_accuracy: 0.7073\n",
      "Epoch 6/10\n",
      "6/6 [==============================] - 0s 68ms/step - loss: 0.8768 - accuracy: 0.6946 - val_loss: 1.7382 - val_accuracy: 0.5610\n",
      "Epoch 7/10\n",
      "6/6 [==============================] - 0s 68ms/step - loss: 0.6070 - accuracy: 0.8024 - val_loss: 1.4052 - val_accuracy: 0.6585\n",
      "Epoch 8/10\n",
      "6/6 [==============================] - 0s 75ms/step - loss: 0.5620 - accuracy: 0.7485 - val_loss: 1.3465 - val_accuracy: 0.6098\n",
      "Epoch 9/10\n",
      "6/6 [==============================] - 0s 52ms/step - loss: 0.6291 - accuracy: 0.7186 - val_loss: 0.9508 - val_accuracy: 0.6829\n",
      "Epoch 10/10\n",
      "6/6 [==============================] - 0s 72ms/step - loss: 0.4362 - accuracy: 0.7844 - val_loss: 0.8769 - val_accuracy: 0.6585\n"
     ]
    },
    {
     "data": {
      "text/plain": [
       "<keras.src.callbacks.History at 0x30fa70410>"
      ]
     },
     "execution_count": 10,
     "metadata": {},
     "output_type": "execute_result"
    }
   ],
   "source": [
    "model = create_ann_model()\n",
    "model.fit(train_gen, epochs=10, validation_data=val_gen)"
   ]
  },
  {
   "cell_type": "code",
   "execution_count": null,
   "id": "4c2026c2-e70b-47ad-a7c6-69fe4128a347",
   "metadata": {},
   "outputs": [],
   "source": []
  }
 ],
 "metadata": {
  "kernelspec": {
   "display_name": "Python 3 (ipykernel)",
   "language": "python",
   "name": "python3"
  },
  "language_info": {
   "codemirror_mode": {
    "name": "ipython",
    "version": 3
   },
   "file_extension": ".py",
   "mimetype": "text/x-python",
   "name": "python",
   "nbconvert_exporter": "python",
   "pygments_lexer": "ipython3",
   "version": "3.11.7"
  }
 },
 "nbformat": 4,
 "nbformat_minor": 5
}
